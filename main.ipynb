{
 "cells": [
  {
   "cell_type": "markdown",
   "metadata": {},
   "source": [
    "<h1>  Project of DDML </h1>\n",
    "\n",
    "<h3>Author :</h3>\n",
    "    <ul>\n",
    "    <li> \n",
    "    Thibault POUX\n",
    "    </li> \n",
    "    <li> \n",
    "    Pablo García\n",
    "    </li> \n",
    "    <li> \n",
    "    Nabil Kaci \n",
    "    </li> \n",
    "    </ul>"
   ]
  },
  {
   "cell_type": "code",
   "execution_count": 2,
   "metadata": {},
   "outputs": [],
   "source": [
    "#all import \n",
    "\n",
    "\n",
    "#homemade package\n",
    "\n",
    "#import the data"
   ]
  },
  {
   "cell_type": "code",
   "execution_count": null,
   "metadata": {},
   "outputs": [],
   "source": []
  }
 ],
 "metadata": {
  "kernelspec": {
   "display_name": "Python 3",
   "language": "python",
   "name": "python3"
  },
  "language_info": {
   "codemirror_mode": {
    "name": "ipython",
    "version": 3
   },
   "file_extension": ".py",
   "mimetype": "text/x-python",
   "name": "python",
   "nbconvert_exporter": "python",
   "pygments_lexer": "ipython3",
   "version": "3.11.9"
  }
 },
 "nbformat": 4,
 "nbformat_minor": 2
}
